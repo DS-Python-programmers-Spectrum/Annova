{
 "cells": [
  {
   "cell_type": "code",
   "execution_count": 2,
   "id": "ded6ac42-b5e3-48af-8f57-b78e8d866a47",
   "metadata": {},
   "outputs": [
    {
     "name": "stdout",
     "output_type": "stream",
     "text": [
      "Chi-Square Statistic = 2.9000\n",
      "P-Value = 0.5747\n"
     ]
    }
   ],
   "source": [
    "from scipy.stats import chisquare\n",
    "\n",
    "# Observed frequencies\n",
    "observed = [22, 18, 25, 20, 15]\n",
    "\n",
    "# Expected frequencies (equal distribution)\n",
    "expected = [20] * 5\n",
    "\n",
    "# Chi-square test\n",
    "chi2_stat, p_value = chisquare(f_obs=observed, f_exp=expected)\n",
    "\n",
    "print(f\"Chi-Square Statistic = {chi2_stat:.4f}\")\n",
    "print(f\"P-Value = {p_value:.4f}\")\n"
   ]
  },
  {
   "cell_type": "code",
   "execution_count": 3,
   "id": "fe5f8b66-6a61-427e-bb11-57ca7a20a354",
   "metadata": {},
   "outputs": [
    {
     "name": "stdout",
     "output_type": "stream",
     "text": [
      "F-Statistic: 61.4697\n",
      "P-Value: 0.0000\n",
      "Reject the null hypothesis: Significant difference in means.\n"
     ]
    }
   ],
   "source": [
    "import scipy.stats as stats\n",
    "\n",
    "# Scores from each method\n",
    "Method_A = [85, 88, 90, 86, 87]\n",
    "Method_B = [78, 80, 74, 76, 79]\n",
    "Method_C = [92, 94, 89, 91, 93]\n",
    "\n",
    "# Perform One-Way ANOVA\n",
    "f_statistic, p_value = stats.f_oneway(Method_A, Method_B, Method_C)\n",
    "\n",
    "print(f\"F-Statistic: {f_statistic:.4f}\")\n",
    "print(f\"P-Value: {p_value:.4f}\")\n",
    "\n",
    "# Decision based on significance level α = 0.05\n",
    "if p_value < 0.05:\n",
    "    print(\"Reject the null hypothesis: Significant difference in means.\")\n",
    "else:\n",
    "    print(\"Fail to reject the null hypothesis: No significant difference in means.\")\n"
   ]
  },
  {
   "cell_type": "code",
   "execution_count": null,
   "id": "c3cca61e-ab8a-4560-aeab-1b2872469934",
   "metadata": {},
   "outputs": [],
   "source": []
  }
 ],
 "metadata": {
  "kernelspec": {
   "display_name": "Python 3 (ipykernel)",
   "language": "python",
   "name": "python3"
  },
  "language_info": {
   "codemirror_mode": {
    "name": "ipython",
    "version": 3
   },
   "file_extension": ".py",
   "mimetype": "text/x-python",
   "name": "python",
   "nbconvert_exporter": "python",
   "pygments_lexer": "ipython3",
   "version": "3.12.3"
  }
 },
 "nbformat": 4,
 "nbformat_minor": 5
}
